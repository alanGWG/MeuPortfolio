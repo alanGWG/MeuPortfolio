{
 "cells": [
  {
   "cell_type": "markdown",
   "metadata": {},
   "source": [
    "# Projeto de Programação Python\n",
    "### Autor: Alan G. W. Gayger\n",
    "- Bibliografia utilizada como base para o projeto:\n",
    "    - Automate the Boring Stuff with Python (capítulo 7) - livro com dezenas de projetos práticos, muito recomendado para inciantes.\n",
    "    - Projeto guiado do capítulo 7: \n",
    "        - Project: Phone Number and Email Address Extractor\n",
    "\n",
    "    - PS: esse código é uma adaptação da sua versão presente no livro. Ele foi feito baseando-se inteiramente no conteúdo presente no Automate the Boring Stuff, mas com algumas pequenas adições e adaptações.\n",
    "\n",
    "# Título: Extrator de Telefones e Emails"
   ]
  },
  {
   "cell_type": "code",
   "execution_count": 2,
   "metadata": {},
   "outputs": [],
   "source": [
    "# Função para extrair números de telefone e emails de texto na área de transferência\n",
    "\n",
    "import pyperclip\n",
    "import re\n",
    "\n",
    "\n",
    "def ExtraiTelefoneEmail():\n",
    "    \"\"\"\n",
    "    Extrai emails e telefones de texto presente na área de transferência (de acordo com padrão informado dentro da função) e repassa-os para ela.\n",
    "    \"\"\"\n",
    "    \n",
    "    \n",
    "    # recebe mensagem da área de transferência\n",
    "    mensagem = str(pyperclip.paste())\n",
    "\n",
    "    # Regex emails\n",
    "    emails = re.findall(r'[a-zA-Z0-9._%+-]+@[a-zA-Z0-9.-]+', mensagem)\n",
    "\n",
    "    # Regex números\n",
    "    numeros = re.findall(r'\\(?\\d*\\)?\\s?-?\\s?\\d{4,5}\\W*\\d{4}', mensagem) # \\(?\\d*)? pega digitos iniciais com ou sem parênteses\n",
    "    # \\W*\\d{4,5} e \\W*\\d{4} pega dígitos, tracinho ou sem nada antes\n",
    "\n",
    "    # atribui à variável \"string_final\" emails e números de telefone extraídos\n",
    "    string_final = \"\"\n",
    "    for p, email in enumerate(emails):\n",
    "        if p == 0:\n",
    "            string_final += \"Emails\\n\"\n",
    "        string_final += email + \"\\n\"\n",
    "    for p, numero in enumerate(numeros):\n",
    "        if p == 0:\n",
    "            string_final += \"\\nTelefones\\n\"\n",
    "        string_final += numero.strip() + \"\\n\"\n",
    "\n",
    "    # repassa conteúdo de string_final para área de tranferência\n",
    "    pyperclip.copy(string_final)"
   ]
  }
 ],
 "metadata": {
  "kernelspec": {
   "display_name": "Python 3",
   "language": "python",
   "name": "python3"
  },
  "language_info": {
   "codemirror_mode": {
    "name": "ipython",
    "version": 3
   },
   "file_extension": ".py",
   "mimetype": "text/x-python",
   "name": "python",
   "nbconvert_exporter": "python",
   "pygments_lexer": "ipython3",
   "version": "3.8.5"
  }
 },
 "nbformat": 4,
 "nbformat_minor": 4
}
