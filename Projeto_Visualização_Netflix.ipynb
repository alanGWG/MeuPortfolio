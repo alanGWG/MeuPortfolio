{
 "cells": [
  {
   "cell_type": "markdown",
   "metadata": {},
   "source": [
    "# Projeto de Visualização de Dados\n",
    "### Autor: Alan G. W. Gayger\n",
    "### Dataset: netflix_titles.csv (dados de títulos disponíveis na Netflix em janeiro de 2021)\n",
    "# Título: Qual é o público melhor atendido pela Netflix?\n"
   ]
  },
  {
   "cell_type": "markdown",
   "metadata": {},
   "source": [
    "# Introdução"
   ]
  },
  {
   "cell_type": "markdown",
   "metadata": {},
   "source": [
    "- Introdução:\n",
    "    - Computadores, celulares, internet e boom! Os anos 2000 chegaram trazendo inúmeras novidades às nossas vidas e a velocidade com a qual surgem essas inovações só aumenta. Nesse contexto de transformação digital e tecnológica, a Netflix firmou-se como a maior empresa de streamming de filmes e séries do mundo e como uma das principais fontes de entretenimento modernas. \n",
    "    - Pessoalmente, eu me incluo no grupo de pessoas que não imagina um final de semana sem poder sentar no sofá e relaxar assistindo algo na Netflix. Entretanto, apesar de todo o meu apreço pela plataforma, em alguns momentos eu chego a me sentir perdido em meio a tantos e tão variados títulos e acabo sofrendo pra decidir qual assistir. Pensando nessa dificuldade – e considerando que outras pessoas também possam sentir-se da mesma maneira – decidi tentar esclarecer um pouco a situação respondendo à seguinte pergunta: “Qual é o público melhor atendido pela empresa?” \n",
    "    - Para responder tal questão, realizei um estudo utilizando uma base de dados de todos os títulos disponíveis na Netflix em janeiro de 2021, contendo 7777 obras, sendo elas 5377 filmes e 2400 séries. O processo de análise foi baseado, em sua maioria, em visualizações gráficas desses registros e pode ser dividido em cinco tópicos: ano de lançamento, duração, país, gênero, rating (classificação etária).\n"
   ]
  },
  {
   "cell_type": "markdown",
   "metadata": {},
   "source": [
    "# Análise Exploratória e Visualização de Dados"
   ]
  },
  {
   "cell_type": "code",
   "execution_count": 129,
   "metadata": {},
   "outputs": [],
   "source": [
    "# Pacotes importados\n",
    "\n",
    "import pandas as pd\n",
    "import numpy as np\n",
    "import matplotlib.pyplot as plt\n",
    "import matplotlib as mlp\n",
    "import seaborn as sns\n",
    "import re\n",
    "from functools import reduce\n",
    "from collections import Counter"
   ]
  },
  {
   "cell_type": "markdown",
   "metadata": {},
   "source": [
    "## Limpeza de dados:"
   ]
  },
  {
   "cell_type": "code",
   "execution_count": 130,
   "metadata": {},
   "outputs": [],
   "source": [
    "# lendo documento csv\n",
    "netflix_dados = pd.read_csv('netflix_titles.csv', index_col='show_id').rename_axis('id', axis='rows')"
   ]
  },
  {
   "cell_type": "code",
   "execution_count": 131,
   "metadata": {},
   "outputs": [
    {
     "data": {
      "text/html": [
       "<div>\n",
       "<style scoped>\n",
       "    .dataframe tbody tr th:only-of-type {\n",
       "        vertical-align: middle;\n",
       "    }\n",
       "\n",
       "    .dataframe tbody tr th {\n",
       "        vertical-align: top;\n",
       "    }\n",
       "\n",
       "    .dataframe thead th {\n",
       "        text-align: right;\n",
       "    }\n",
       "</style>\n",
       "<table border=\"1\" class=\"dataframe\">\n",
       "  <thead>\n",
       "    <tr style=\"text-align: right;\">\n",
       "      <th></th>\n",
       "      <th>type</th>\n",
       "      <th>title</th>\n",
       "      <th>director</th>\n",
       "      <th>cast</th>\n",
       "      <th>country</th>\n",
       "      <th>date_added</th>\n",
       "      <th>release_year</th>\n",
       "      <th>rating</th>\n",
       "      <th>duration</th>\n",
       "      <th>listed_in</th>\n",
       "      <th>description</th>\n",
       "    </tr>\n",
       "    <tr>\n",
       "      <th>id</th>\n",
       "      <th></th>\n",
       "      <th></th>\n",
       "      <th></th>\n",
       "      <th></th>\n",
       "      <th></th>\n",
       "      <th></th>\n",
       "      <th></th>\n",
       "      <th></th>\n",
       "      <th></th>\n",
       "      <th></th>\n",
       "      <th></th>\n",
       "    </tr>\n",
       "  </thead>\n",
       "  <tbody>\n",
       "    <tr>\n",
       "      <th>s1</th>\n",
       "      <td>TV Show</td>\n",
       "      <td>3%</td>\n",
       "      <td>NaN</td>\n",
       "      <td>João Miguel, Bianca Comparato, Michel Gomes, R...</td>\n",
       "      <td>Brazil</td>\n",
       "      <td>August 14, 2020</td>\n",
       "      <td>2020</td>\n",
       "      <td>TV-MA</td>\n",
       "      <td>4 Seasons</td>\n",
       "      <td>International TV Shows, TV Dramas, TV Sci-Fi &amp;...</td>\n",
       "      <td>In a future where the elite inhabit an island ...</td>\n",
       "    </tr>\n",
       "    <tr>\n",
       "      <th>s2</th>\n",
       "      <td>Movie</td>\n",
       "      <td>7:19</td>\n",
       "      <td>Jorge Michel Grau</td>\n",
       "      <td>Demián Bichir, Héctor Bonilla, Oscar Serrano, ...</td>\n",
       "      <td>Mexico</td>\n",
       "      <td>December 23, 2016</td>\n",
       "      <td>2016</td>\n",
       "      <td>TV-MA</td>\n",
       "      <td>93 min</td>\n",
       "      <td>Dramas, International Movies</td>\n",
       "      <td>After a devastating earthquake hits Mexico Cit...</td>\n",
       "    </tr>\n",
       "    <tr>\n",
       "      <th>s3</th>\n",
       "      <td>Movie</td>\n",
       "      <td>23:59</td>\n",
       "      <td>Gilbert Chan</td>\n",
       "      <td>Tedd Chan, Stella Chung, Henley Hii, Lawrence ...</td>\n",
       "      <td>Singapore</td>\n",
       "      <td>December 20, 2018</td>\n",
       "      <td>2011</td>\n",
       "      <td>R</td>\n",
       "      <td>78 min</td>\n",
       "      <td>Horror Movies, International Movies</td>\n",
       "      <td>When an army recruit is found dead, his fellow...</td>\n",
       "    </tr>\n",
       "    <tr>\n",
       "      <th>s4</th>\n",
       "      <td>Movie</td>\n",
       "      <td>9</td>\n",
       "      <td>Shane Acker</td>\n",
       "      <td>Elijah Wood, John C. Reilly, Jennifer Connelly...</td>\n",
       "      <td>United States</td>\n",
       "      <td>November 16, 2017</td>\n",
       "      <td>2009</td>\n",
       "      <td>PG-13</td>\n",
       "      <td>80 min</td>\n",
       "      <td>Action &amp; Adventure, Independent Movies, Sci-Fi...</td>\n",
       "      <td>In a postapocalyptic world, rag-doll robots hi...</td>\n",
       "    </tr>\n",
       "    <tr>\n",
       "      <th>s5</th>\n",
       "      <td>Movie</td>\n",
       "      <td>21</td>\n",
       "      <td>Robert Luketic</td>\n",
       "      <td>Jim Sturgess, Kevin Spacey, Kate Bosworth, Aar...</td>\n",
       "      <td>United States</td>\n",
       "      <td>January 1, 2020</td>\n",
       "      <td>2008</td>\n",
       "      <td>PG-13</td>\n",
       "      <td>123 min</td>\n",
       "      <td>Dramas</td>\n",
       "      <td>A brilliant group of students become card-coun...</td>\n",
       "    </tr>\n",
       "  </tbody>\n",
       "</table>\n",
       "</div>"
      ],
      "text/plain": [
       "       type  title           director  \\\n",
       "id                                      \n",
       "s1  TV Show     3%                NaN   \n",
       "s2    Movie   7:19  Jorge Michel Grau   \n",
       "s3    Movie  23:59       Gilbert Chan   \n",
       "s4    Movie      9        Shane Acker   \n",
       "s5    Movie     21     Robert Luketic   \n",
       "\n",
       "                                                 cast        country  \\\n",
       "id                                                                     \n",
       "s1  João Miguel, Bianca Comparato, Michel Gomes, R...         Brazil   \n",
       "s2  Demián Bichir, Héctor Bonilla, Oscar Serrano, ...         Mexico   \n",
       "s3  Tedd Chan, Stella Chung, Henley Hii, Lawrence ...      Singapore   \n",
       "s4  Elijah Wood, John C. Reilly, Jennifer Connelly...  United States   \n",
       "s5  Jim Sturgess, Kevin Spacey, Kate Bosworth, Aar...  United States   \n",
       "\n",
       "           date_added  release_year rating   duration  \\\n",
       "id                                                      \n",
       "s1    August 14, 2020          2020  TV-MA  4 Seasons   \n",
       "s2  December 23, 2016          2016  TV-MA     93 min   \n",
       "s3  December 20, 2018          2011      R     78 min   \n",
       "s4  November 16, 2017          2009  PG-13     80 min   \n",
       "s5    January 1, 2020          2008  PG-13    123 min   \n",
       "\n",
       "                                            listed_in  \\\n",
       "id                                                      \n",
       "s1  International TV Shows, TV Dramas, TV Sci-Fi &...   \n",
       "s2                       Dramas, International Movies   \n",
       "s3                Horror Movies, International Movies   \n",
       "s4  Action & Adventure, Independent Movies, Sci-Fi...   \n",
       "s5                                             Dramas   \n",
       "\n",
       "                                          description  \n",
       "id                                                     \n",
       "s1  In a future where the elite inhabit an island ...  \n",
       "s2  After a devastating earthquake hits Mexico Cit...  \n",
       "s3  When an army recruit is found dead, his fellow...  \n",
       "s4  In a postapocalyptic world, rag-doll robots hi...  \n",
       "s5  A brilliant group of students become card-coun...  "
      ]
     },
     "execution_count": 131,
     "metadata": {},
     "output_type": "execute_result"
    }
   ],
   "source": [
    "# Inspecionando o dataframe\n",
    "netflix_dados.head()"
   ]
  },
  {
   "cell_type": "code",
   "execution_count": 132,
   "metadata": {},
   "outputs": [
    {
     "data": {
      "text/html": [
       "<div>\n",
       "<style scoped>\n",
       "    .dataframe tbody tr th:only-of-type {\n",
       "        vertical-align: middle;\n",
       "    }\n",
       "\n",
       "    .dataframe tbody tr th {\n",
       "        vertical-align: top;\n",
       "    }\n",
       "\n",
       "    .dataframe thead th {\n",
       "        text-align: right;\n",
       "    }\n",
       "</style>\n",
       "<table border=\"1\" class=\"dataframe\">\n",
       "  <thead>\n",
       "    <tr style=\"text-align: right;\">\n",
       "      <th></th>\n",
       "      <th>type</th>\n",
       "      <th>title</th>\n",
       "      <th>director</th>\n",
       "      <th>cast</th>\n",
       "      <th>country</th>\n",
       "      <th>date_added</th>\n",
       "      <th>release_year</th>\n",
       "      <th>rating</th>\n",
       "      <th>duration</th>\n",
       "      <th>listed_in</th>\n",
       "      <th>description</th>\n",
       "    </tr>\n",
       "    <tr>\n",
       "      <th>id</th>\n",
       "      <th></th>\n",
       "      <th></th>\n",
       "      <th></th>\n",
       "      <th></th>\n",
       "      <th></th>\n",
       "      <th></th>\n",
       "      <th></th>\n",
       "      <th></th>\n",
       "      <th></th>\n",
       "      <th></th>\n",
       "      <th></th>\n",
       "    </tr>\n",
       "  </thead>\n",
       "  <tbody>\n",
       "    <tr>\n",
       "      <th>s7783</th>\n",
       "      <td>Movie</td>\n",
       "      <td>Zozo</td>\n",
       "      <td>Josef Fares</td>\n",
       "      <td>Imad Creidi, Antoinette Turk, Elias Gergi, Car...</td>\n",
       "      <td>Sweden, Czech Republic, United Kingdom, Denmar...</td>\n",
       "      <td>October 19, 2020</td>\n",
       "      <td>2005</td>\n",
       "      <td>TV-MA</td>\n",
       "      <td>99 min</td>\n",
       "      <td>Dramas, International Movies</td>\n",
       "      <td>When Lebanon's Civil War deprives Zozo of his ...</td>\n",
       "    </tr>\n",
       "    <tr>\n",
       "      <th>s7784</th>\n",
       "      <td>Movie</td>\n",
       "      <td>Zubaan</td>\n",
       "      <td>Mozez Singh</td>\n",
       "      <td>Vicky Kaushal, Sarah-Jane Dias, Raaghav Chanan...</td>\n",
       "      <td>India</td>\n",
       "      <td>March 2, 2019</td>\n",
       "      <td>2015</td>\n",
       "      <td>TV-14</td>\n",
       "      <td>111 min</td>\n",
       "      <td>Dramas, International Movies, Music &amp; Musicals</td>\n",
       "      <td>A scrappy but poor boy worms his way into a ty...</td>\n",
       "    </tr>\n",
       "    <tr>\n",
       "      <th>s7785</th>\n",
       "      <td>Movie</td>\n",
       "      <td>Zulu Man in Japan</td>\n",
       "      <td>NaN</td>\n",
       "      <td>Nasty C</td>\n",
       "      <td>NaN</td>\n",
       "      <td>September 25, 2020</td>\n",
       "      <td>2019</td>\n",
       "      <td>TV-MA</td>\n",
       "      <td>44 min</td>\n",
       "      <td>Documentaries, International Movies, Music &amp; M...</td>\n",
       "      <td>In this documentary, South African rapper Nast...</td>\n",
       "    </tr>\n",
       "    <tr>\n",
       "      <th>s7786</th>\n",
       "      <td>TV Show</td>\n",
       "      <td>Zumbo's Just Desserts</td>\n",
       "      <td>NaN</td>\n",
       "      <td>Adriano Zumbo, Rachel Khoo</td>\n",
       "      <td>Australia</td>\n",
       "      <td>October 31, 2020</td>\n",
       "      <td>2019</td>\n",
       "      <td>TV-PG</td>\n",
       "      <td>1 Season</td>\n",
       "      <td>International TV Shows, Reality TV</td>\n",
       "      <td>Dessert wizard Adriano Zumbo looks for the nex...</td>\n",
       "    </tr>\n",
       "    <tr>\n",
       "      <th>s7787</th>\n",
       "      <td>Movie</td>\n",
       "      <td>ZZ TOP: THAT LITTLE OL' BAND FROM TEXAS</td>\n",
       "      <td>Sam Dunn</td>\n",
       "      <td>NaN</td>\n",
       "      <td>United Kingdom, Canada, United States</td>\n",
       "      <td>March 1, 2020</td>\n",
       "      <td>2019</td>\n",
       "      <td>TV-MA</td>\n",
       "      <td>90 min</td>\n",
       "      <td>Documentaries, Music &amp; Musicals</td>\n",
       "      <td>This documentary delves into the mystique behi...</td>\n",
       "    </tr>\n",
       "  </tbody>\n",
       "</table>\n",
       "</div>"
      ],
      "text/plain": [
       "          type                                    title     director  \\\n",
       "id                                                                     \n",
       "s7783    Movie                                     Zozo  Josef Fares   \n",
       "s7784    Movie                                   Zubaan  Mozez Singh   \n",
       "s7785    Movie                        Zulu Man in Japan          NaN   \n",
       "s7786  TV Show                    Zumbo's Just Desserts          NaN   \n",
       "s7787    Movie  ZZ TOP: THAT LITTLE OL' BAND FROM TEXAS     Sam Dunn   \n",
       "\n",
       "                                                    cast  \\\n",
       "id                                                         \n",
       "s7783  Imad Creidi, Antoinette Turk, Elias Gergi, Car...   \n",
       "s7784  Vicky Kaushal, Sarah-Jane Dias, Raaghav Chanan...   \n",
       "s7785                                            Nasty C   \n",
       "s7786                         Adriano Zumbo, Rachel Khoo   \n",
       "s7787                                                NaN   \n",
       "\n",
       "                                                 country          date_added  \\\n",
       "id                                                                             \n",
       "s7783  Sweden, Czech Republic, United Kingdom, Denmar...    October 19, 2020   \n",
       "s7784                                              India       March 2, 2019   \n",
       "s7785                                                NaN  September 25, 2020   \n",
       "s7786                                          Australia    October 31, 2020   \n",
       "s7787              United Kingdom, Canada, United States       March 1, 2020   \n",
       "\n",
       "       release_year rating  duration  \\\n",
       "id                                     \n",
       "s7783          2005  TV-MA    99 min   \n",
       "s7784          2015  TV-14   111 min   \n",
       "s7785          2019  TV-MA    44 min   \n",
       "s7786          2019  TV-PG  1 Season   \n",
       "s7787          2019  TV-MA    90 min   \n",
       "\n",
       "                                               listed_in  \\\n",
       "id                                                         \n",
       "s7783                       Dramas, International Movies   \n",
       "s7784     Dramas, International Movies, Music & Musicals   \n",
       "s7785  Documentaries, International Movies, Music & M...   \n",
       "s7786                 International TV Shows, Reality TV   \n",
       "s7787                    Documentaries, Music & Musicals   \n",
       "\n",
       "                                             description  \n",
       "id                                                        \n",
       "s7783  When Lebanon's Civil War deprives Zozo of his ...  \n",
       "s7784  A scrappy but poor boy worms his way into a ty...  \n",
       "s7785  In this documentary, South African rapper Nast...  \n",
       "s7786  Dessert wizard Adriano Zumbo looks for the nex...  \n",
       "s7787  This documentary delves into the mystique behi...  "
      ]
     },
     "execution_count": 132,
     "metadata": {},
     "output_type": "execute_result"
    }
   ],
   "source": [
    "netflix_dados.tail()"
   ]
  },
  {
   "cell_type": "code",
   "execution_count": 133,
   "metadata": {},
   "outputs": [
    {
     "name": "stdout",
     "output_type": "stream",
     "text": [
      "Total obras: 7787\n",
      "Total filmes: 5377\t Proporção filmes: 0.69\n",
      "Total séries: 2410\t Proporção séries: 0.31\n"
     ]
    }
   ],
   "source": [
    "# Verificando composição do Dataset\n",
    "movies, shows = netflix_dados.type.value_counts()\n",
    "total = len(netflix_dados)\n",
    "print(f'Total obras: {total}\\nTotal filmes: {movies}\\t Proporção filmes: {movies / total:.2f}\\nTotal séries: {shows}\\t Proporção séries: {shows / total:.2f}')"
   ]
  },
  {
   "cell_type": "markdown",
   "metadata": {},
   "source": [
    "## Tratando NaN"
   ]
  },
  {
   "cell_type": "code",
   "execution_count": 134,
   "metadata": {},
   "outputs": [
    {
     "name": "stdout",
     "output_type": "stream",
     "text": [
      "4.238999731487211\n"
     ]
    }
   ],
   "source": [
    "# Verificando proporção de valores faltantes\n",
    "porc_incompleta = (netflix_dados.isnull().sum().sum() / np.product(netflix_dados.shape)) * 100\n",
    "print(porc_incompleta) "
   ]
  },
  {
   "cell_type": "code",
   "execution_count": 135,
   "metadata": {},
   "outputs": [
    {
     "data": {
      "text/plain": [
       "director      2389\n",
       "cast           718\n",
       "country        507\n",
       "date_added      10\n",
       "rating           7\n",
       "dtype: int64"
      ]
     },
     "execution_count": 135,
     "metadata": {},
     "output_type": "execute_result"
    }
   ],
   "source": [
    "# Verificando quantidade de valores faltantes por coluna\n",
    "cols_incompletas = list(netflix_dados.loc[:, netflix_dados.isnull().sum()>0].columns)\n",
    "netflix_dados[cols_incompletas].isnull().sum() "
   ]
  },
  {
   "cell_type": "code",
   "execution_count": 136,
   "metadata": {},
   "outputs": [],
   "source": [
    "# tratando dados - substituindo NaN em variáveis categóricas por \"Unknown\"\n",
    "netflix_dados[['director', 'cast', 'rating', 'country']] = netflix_dados[['director', 'cast', 'rating', 'country']].fillna('Unknown')"
   ]
  },
  {
   "cell_type": "code",
   "execution_count": 137,
   "metadata": {},
   "outputs": [],
   "source": [
    "# descartando dados restantes com NaN (essa operação não gera grande perda de informação, pois são descartadas apenas 10 linhas com NaN no campo date_added)\n",
    "netflix_dados = netflix_dados.dropna()"
   ]
  },
  {
   "cell_type": "markdown",
   "metadata": {},
   "source": [
    "## Formatando datas"
   ]
  },
  {
   "cell_type": "code",
   "execution_count": 138,
   "metadata": {},
   "outputs": [],
   "source": [
    "# formatando coluna release_year com formato datetime\n",
    "netflix_dados['release_year'] = pd.to_datetime(netflix_dados['release_year'], format='%Y') "
   ]
  },
  {
   "cell_type": "code",
   "execution_count": 139,
   "metadata": {},
   "outputs": [
    {
     "data": {
      "text/html": [
       "<div>\n",
       "<style scoped>\n",
       "    .dataframe tbody tr th:only-of-type {\n",
       "        vertical-align: middle;\n",
       "    }\n",
       "\n",
       "    .dataframe tbody tr th {\n",
       "        vertical-align: top;\n",
       "    }\n",
       "\n",
       "    .dataframe thead th {\n",
       "        text-align: right;\n",
       "    }\n",
       "</style>\n",
       "<table border=\"1\" class=\"dataframe\">\n",
       "  <thead>\n",
       "    <tr style=\"text-align: right;\">\n",
       "      <th></th>\n",
       "      <th>type</th>\n",
       "      <th>title</th>\n",
       "      <th>director</th>\n",
       "      <th>cast</th>\n",
       "      <th>country</th>\n",
       "      <th>date_added</th>\n",
       "      <th>release_year</th>\n",
       "      <th>rating</th>\n",
       "      <th>duration</th>\n",
       "      <th>listed_in</th>\n",
       "      <th>description</th>\n",
       "    </tr>\n",
       "    <tr>\n",
       "      <th>id</th>\n",
       "      <th></th>\n",
       "      <th></th>\n",
       "      <th></th>\n",
       "      <th></th>\n",
       "      <th></th>\n",
       "      <th></th>\n",
       "      <th></th>\n",
       "      <th></th>\n",
       "      <th></th>\n",
       "      <th></th>\n",
       "      <th></th>\n",
       "    </tr>\n",
       "  </thead>\n",
       "  <tbody>\n",
       "    <tr>\n",
       "      <th>s1</th>\n",
       "      <td>TV Show</td>\n",
       "      <td>3%</td>\n",
       "      <td>Unknown</td>\n",
       "      <td>João Miguel, Bianca Comparato, Michel Gomes, R...</td>\n",
       "      <td>Brazil</td>\n",
       "      <td>August 14, 2020</td>\n",
       "      <td>2020-01-01</td>\n",
       "      <td>TV-MA</td>\n",
       "      <td>4 Seasons</td>\n",
       "      <td>International TV Shows, TV Dramas, TV Sci-Fi &amp;...</td>\n",
       "      <td>In a future where the elite inhabit an island ...</td>\n",
       "    </tr>\n",
       "    <tr>\n",
       "      <th>s2</th>\n",
       "      <td>Movie</td>\n",
       "      <td>7:19</td>\n",
       "      <td>Jorge Michel Grau</td>\n",
       "      <td>Demián Bichir, Héctor Bonilla, Oscar Serrano, ...</td>\n",
       "      <td>Mexico</td>\n",
       "      <td>December 23, 2016</td>\n",
       "      <td>2016-01-01</td>\n",
       "      <td>TV-MA</td>\n",
       "      <td>93 min</td>\n",
       "      <td>Dramas, International Movies</td>\n",
       "      <td>After a devastating earthquake hits Mexico Cit...</td>\n",
       "    </tr>\n",
       "    <tr>\n",
       "      <th>s3</th>\n",
       "      <td>Movie</td>\n",
       "      <td>23:59</td>\n",
       "      <td>Gilbert Chan</td>\n",
       "      <td>Tedd Chan, Stella Chung, Henley Hii, Lawrence ...</td>\n",
       "      <td>Singapore</td>\n",
       "      <td>December 20, 2018</td>\n",
       "      <td>2011-01-01</td>\n",
       "      <td>R</td>\n",
       "      <td>78 min</td>\n",
       "      <td>Horror Movies, International Movies</td>\n",
       "      <td>When an army recruit is found dead, his fellow...</td>\n",
       "    </tr>\n",
       "    <tr>\n",
       "      <th>s4</th>\n",
       "      <td>Movie</td>\n",
       "      <td>9</td>\n",
       "      <td>Shane Acker</td>\n",
       "      <td>Elijah Wood, John C. Reilly, Jennifer Connelly...</td>\n",
       "      <td>United States</td>\n",
       "      <td>November 16, 2017</td>\n",
       "      <td>2009-01-01</td>\n",
       "      <td>PG-13</td>\n",
       "      <td>80 min</td>\n",
       "      <td>Action &amp; Adventure, Independent Movies, Sci-Fi...</td>\n",
       "      <td>In a postapocalyptic world, rag-doll robots hi...</td>\n",
       "    </tr>\n",
       "    <tr>\n",
       "      <th>s5</th>\n",
       "      <td>Movie</td>\n",
       "      <td>21</td>\n",
       "      <td>Robert Luketic</td>\n",
       "      <td>Jim Sturgess, Kevin Spacey, Kate Bosworth, Aar...</td>\n",
       "      <td>United States</td>\n",
       "      <td>January 1, 2020</td>\n",
       "      <td>2008-01-01</td>\n",
       "      <td>PG-13</td>\n",
       "      <td>123 min</td>\n",
       "      <td>Dramas</td>\n",
       "      <td>A brilliant group of students become card-coun...</td>\n",
       "    </tr>\n",
       "  </tbody>\n",
       "</table>\n",
       "</div>"
      ],
      "text/plain": [
       "       type  title           director  \\\n",
       "id                                      \n",
       "s1  TV Show     3%            Unknown   \n",
       "s2    Movie   7:19  Jorge Michel Grau   \n",
       "s3    Movie  23:59       Gilbert Chan   \n",
       "s4    Movie      9        Shane Acker   \n",
       "s5    Movie     21     Robert Luketic   \n",
       "\n",
       "                                                 cast        country  \\\n",
       "id                                                                     \n",
       "s1  João Miguel, Bianca Comparato, Michel Gomes, R...         Brazil   \n",
       "s2  Demián Bichir, Héctor Bonilla, Oscar Serrano, ...         Mexico   \n",
       "s3  Tedd Chan, Stella Chung, Henley Hii, Lawrence ...      Singapore   \n",
       "s4  Elijah Wood, John C. Reilly, Jennifer Connelly...  United States   \n",
       "s5  Jim Sturgess, Kevin Spacey, Kate Bosworth, Aar...  United States   \n",
       "\n",
       "           date_added release_year rating   duration  \\\n",
       "id                                                     \n",
       "s1    August 14, 2020   2020-01-01  TV-MA  4 Seasons   \n",
       "s2  December 23, 2016   2016-01-01  TV-MA     93 min   \n",
       "s3  December 20, 2018   2011-01-01      R     78 min   \n",
       "s4  November 16, 2017   2009-01-01  PG-13     80 min   \n",
       "s5    January 1, 2020   2008-01-01  PG-13    123 min   \n",
       "\n",
       "                                            listed_in  \\\n",
       "id                                                      \n",
       "s1  International TV Shows, TV Dramas, TV Sci-Fi &...   \n",
       "s2                       Dramas, International Movies   \n",
       "s3                Horror Movies, International Movies   \n",
       "s4  Action & Adventure, Independent Movies, Sci-Fi...   \n",
       "s5                                             Dramas   \n",
       "\n",
       "                                          description  \n",
       "id                                                     \n",
       "s1  In a future where the elite inhabit an island ...  \n",
       "s2  After a devastating earthquake hits Mexico Cit...  \n",
       "s3  When an army recruit is found dead, his fellow...  \n",
       "s4  In a postapocalyptic world, rag-doll robots hi...  \n",
       "s5  A brilliant group of students become card-coun...  "
      ]
     },
     "execution_count": 139,
     "metadata": {},
     "output_type": "execute_result"
    }
   ],
   "source": [
    "netflix_dados.head()"
   ]
  },
  {
   "cell_type": "markdown",
   "metadata": {},
   "source": [
    "## Análise Gráfica"
   ]
  },
  {
   "cell_type": "markdown",
   "metadata": {},
   "source": [
    "### Funções de Visualização"
   ]
  },
  {
   "cell_type": "code",
   "execution_count": 140,
   "metadata": {},
   "outputs": [],
   "source": [
    "# Função para plotar histogramas\n",
    "\n",
    "def Plota_histograma(serie_1, serie_2, titulo_1, titulo_2, eixoX_1='', eixoX_2='', bins_1=True, bins_2=True):\n",
    "    \n",
    "    \n",
    "    # configurando tamanho da figura e cor dos plots\n",
    "    cor = '#E50914'\n",
    "    fig, ax = plt.subplots(1, 2, figsize=(20, 8))\n",
    "    \n",
    "    # configurando tamanho de título, textos dos eixos x e y e títulos dos eixos x e y\n",
    "    tamanho_titulo, tamanho_x, tamanho_y, rotulo_x_1, rotulo_x_2 = 13.5, 11.5, 11.5, 12, 12\n",
    "    ax[0].set_title(titulo_1, fontsize=tamanho_titulo)\n",
    "    ax[0].tick_params(axis='y', labelsize=tamanho_y)\n",
    "    ax[0].tick_params(axis='x', labelsize=tamanho_x)\n",
    "    ax[1].set_title(titulo_2, fontsize=tamanho_titulo)\n",
    "    ax[1].tick_params(axis='y', labelsize=tamanho_y)\n",
    "    ax[1].tick_params(axis='x', labelsize=tamanho_x)\n",
    "    \n",
    "    # configurando valores mínimo e máximo para eixo x do histograma na figura 1\n",
    "    # configurando quantidade de barras no histogramana na figura 1\n",
    "    bins = None\n",
    "    if bins_1 == True:\n",
    "        bins = len(serie_1.unique())\n",
    "    ax[0].set_xlim(float(serie_1.min()), float(serie_1.max()))\n",
    "    sns.distplot(serie_1, bins=bins, kde=False, ax=ax[0], color={cor}) # plotando figura 1\n",
    "    ax[0].set_xlabel(eixoX_1, fontsize = rotulo_x_1)\n",
    "\n",
    "    # configurando valores mínimo e máximo para eixo x do histograma na figura 2\n",
    "    # configurando quantidade de barras no histogramana na figura 2\n",
    "    bins = None\n",
    "    if bins_2 == True:\n",
    "        bins = len(serie_2.unique())\n",
    "    ax[1].set_xlim(float(serie_2.min()), float(serie_2.max()))\n",
    "    sns.distplot(serie_2, bins=bins, kde=False, ax=ax[1], color={cor}) # plotando figura 2\n",
    "    ax[1].set_xlabel(eixoX_2, fontsize = rotulo_x_2)\n"
   ]
  },
  {
   "cell_type": "code",
   "execution_count": 141,
   "metadata": {},
   "outputs": [],
   "source": [
    "# Função para preparar séries para plotar gráficos de barras\n",
    "\n",
    "def Prepara_texto(tipo, coluna):\n",
    "    \n",
    "\n",
    "    # dados_filtrados recebe série com tipo (TV Show/Movie) e coluna (contendo strings) desejados\n",
    "    dados_filtrados = netflix_dados[netflix_dados['type'] == tipo][coluna] \n",
    "    # junta strings da coluna desejada e conta quantas vezes cada palavra repete-se em string_dados\n",
    "    string_dados = ' ' + reduce(lambda x, y: ', '.join((x.lower().strip(), y.lower().strip())), dados_filtrados) + ',' \n",
    "    contador_dados = Counter(re.findall(r\"(?<=\\s)[\\w\\s'&-]+,\", string_dados)) \n",
    "    # transforma contador_dados em série e retira \",\" presente ao final das palavras em série series_dados (carácter presente devido à conveniência no tratamento dos dados)\n",
    "    series_dados = pd.Series(contador_dados).sort_values(ascending=False).drop(['unknown,'], errors='ignore') \n",
    "    series_dados.index = series_dados.index.str[:-1] \n",
    "    return series_dados\n"
   ]
  },
  {
   "cell_type": "code",
   "execution_count": 142,
   "metadata": {},
   "outputs": [],
   "source": [
    "# Função para plotar gráficos de barras\n",
    "\n",
    "def Plota_primeiros_barras(serie_1, serie_2, titulo_1, titulo_2):\n",
    "    \n",
    "    \n",
    "    # configurando tamanho da figura e cor dos plots\n",
    "    cor = '#E50914'\n",
    "    fig, ax = plt.subplots(1, 2, figsize=(28, 12))\n",
    "    \n",
    "     # configurando tamanho de título, textos dos eixos x e y e títulos dos eixos x e y\n",
    "    tamanho_titulo, tamanho_x, tamanho_y = 13.5, 11.5, 11.5\n",
    "    ax[0].set_title(titulo_1, fontsize=tamanho_titulo)\n",
    "    ax[0].tick_params(axis='y', labelsize=tamanho_y, left=False)\n",
    "    ax[0].tick_params(axis='x', labelsize=tamanho_x)\n",
    "    ax[1].set_title(titulo_2, fontsize=tamanho_titulo)\n",
    "    ax[1].tick_params(axis='y', labelsize=tamanho_y, left=False)\n",
    "    ax[1].tick_params(axis='x', labelsize=tamanho_x)\n",
    "    \n",
    "    # retirando bordas superior e direita dos gráficos do seaborn\n",
    "    ax[0].spines['right'].set_visible(False)\n",
    "    ax[0].spines['top'].set_visible(False)\n",
    "    ax[1].spines['right'].set_visible(False)\n",
    "    ax[1].spines['top'].set_visible(False)\n",
    "    \n",
    "    # plotando figuras 1 e 2\n",
    "    sns.barplot(x=serie_1.iloc[:5], y=serie_1.iloc[:5].index.str.title(), ax=ax[0], palette={cor})\n",
    "    sns.barplot(x=serie_2.iloc[:5], y=serie_2.iloc[:5].index.str.title(), ax=ax[1], palette={cor})\n",
    "\n",
    "    "
   ]
  },
  {
   "cell_type": "code",
   "execution_count": 143,
   "metadata": {},
   "outputs": [],
   "source": [
    "# Função para preparar dataframe para plotar gráficos de linha\n",
    "\n",
    "def Prepara_dataframe(tipo, coluna, primeiro, ultimo):\n",
    "    \n",
    "    \n",
    "    # dados_filtrados recebe série com tipo (TV Show/Movie) e coluna (contendo strings) desejados\n",
    "    dados_filtrados = netflix_dados[netflix_dados['type'] == tipo][coluna]   \n",
    "    \n",
    "    # transforma contador_dados em série e retira \",\" presente ao final das palavras em série series_dados (carácter presente devido à conveniência no tratamento dos dados)\n",
    "    string_dados = ' ' + reduce(lambda x, y: ', '.join((x.lower().strip(), y.lower().strip())), dados_filtrados) + ','\n",
    "    contador_dados = Counter(re.findall(r\"(?<=\\s)[\\w\\s'&-]+,\", string_dados))\n",
    "    \n",
    "    # junta strings da coluna desejada e conta quantas vezes cada palavra repete-se em string_dados\n",
    "    series_dados = pd.Series(contador_dados).sort_values(ascending=False).drop(['unknown,'], errors='ignore')\n",
    "    series_dados.index = series_dados.index.str[:-1]\n",
    "    \n",
    "    # series_dados recebe lista com índices de series_dados correspondentes ao intervalo indicado por primeiro:ultimo\n",
    "    series_dados = list(series_dados.iloc[primeiro:ultimo].index)\n",
    "\n",
    "    # forma dataframe com quantidade de títulos por ano para cada um dos possíveis valores de \"coluna\"\n",
    "    netflix_dados_filtrados = netflix_dados.loc[dados_filtrados.index].copy()\n",
    "    for posicao, col in enumerate(series_dados):\n",
    "        # dados_intermediario recebe série com títulos ano a ano para cada um dos possíveis valores de \"coluna\"\n",
    "        dados_intermediario = netflix_dados_filtrados[netflix_dados_filtrados[coluna].str.lower().str.strip().str.contains(str(col))].groupby('release_year').release_year.count().copy()\n",
    "        if posicao == 0:\n",
    "            dados_final = dados_intermediario.copy() # na primeira iteração, dados_final recebe o próprio dados_intermediario\n",
    "        else:\n",
    "            # nas demais iterações, dados_final recebe um dataframe juntando a série da respectiva iteração com as séries já geradas\n",
    "            dados_final = pd.concat([dados_final.copy(), dados_intermediario.copy()], axis=1, join='outer').fillna(0)          \n",
    "            \n",
    "    dados_final.columns = series_dados\n",
    "    return dados_final.astype('int64') # retorna dataframe com títulos por ano por possíveis valores de \"coluna\"\n"
   ]
  },
  {
   "cell_type": "code",
   "execution_count": 144,
   "metadata": {},
   "outputs": [],
   "source": [
    "# Função para plotar gráficos de linha\n",
    "\n",
    "def Plota_primeiros_linhas(df_1, df_2, titulo_1, titulo_2):\n",
    "    \n",
    "    \n",
    "    # configurando tamanho de figura, título, textos dos eixos x e y e títulos dos eixos x e y\n",
    "    fig, ax = plt.subplots(1, 2, figsize=(30, 12))\n",
    "    tamanho_titulo, tamanho_x, tamanho_y, espessura = 13.5, 11.5, 11.5, 2\n",
    "    ax[0].set_title(titulo_1, fontsize=tamanho_titulo)\n",
    "    ax[0].tick_params(axis='y', labelsize=tamanho_y)\n",
    "    ax[0].tick_params(axis='x', labelsize=tamanho_x)\n",
    "    ax[1].set_title(titulo_2, fontsize=tamanho_titulo)\n",
    "    ax[1].tick_params(axis='y', labelsize=tamanho_y)\n",
    "    ax[1].tick_params(axis='x', labelsize=tamanho_x)\n",
    "    \n",
    "    # retirando bordas superior e direita dos gráficos do seaborn\n",
    "    ax[0].spines['right'].set_visible(False)\n",
    "    ax[0].spines['top'].set_visible(False)\n",
    "    ax[1].spines['right'].set_visible(False)\n",
    "    ax[1].spines['top'].set_visible(False)\n",
    "    \n",
    "    # configurando cor dos plots\n",
    "    paleta = sns.color_palette('Reds_r') \n",
    "    sns.set_palette(paleta)\n",
    "    \n",
    "    # plotando figuras 1 e 2\n",
    "    sns.lineplot(data=df_1.iloc[:-2, :], ax=ax[0], linewidth=espessura)\n",
    "    sns.lineplot(data=df_2.iloc[:-2, :], ax=ax[1], linewidth=espessura)\n",
    "\n"
   ]
  },
  {
   "cell_type": "markdown",
   "metadata": {},
   "source": [
    "### Ano de Lançamento"
   ]
  },
  {
   "cell_type": "code",
   "execution_count": 145,
   "metadata": {},
   "outputs": [
    {
     "name": "stderr",
     "output_type": "stream",
     "text": [
      "C:\\Users\\Alan\\anaconda3\\lib\\site-packages\\seaborn\\distributions.py:2551: FutureWarning: `distplot` is a deprecated function and will be removed in a future version. Please adapt your code to use either `displot` (a figure-level function with similar flexibility) or `histplot` (an axes-level function for histograms).\n",
      "  warnings.warn(msg, FutureWarning)\n"
     ]
    },
    {
     "data": {
      "image/png": "[encoded data removed]",
      "text/plain": [
       "<Figure size 1440x576 with 2 Axes>"
      ]
     },
     "metadata": {
      "needs_background": "light"
     },
     "output_type": "display_data"
    }
   ],
   "source": [
    "# Histogramas da distribuição de títulos por ano de lançamento\n",
    "\n",
    "release_shows = netflix_dados[netflix_dados.type == 'TV Show'].release_year.dt.year\n",
    "release_movies = netflix_dados[netflix_dados.type == 'Movie'].release_year.dt.year\n",
    "Plota_histograma(release_shows, release_movies, 'Séries por Ano de Lançamento', 'Filmes por Ano de Lançamento')"
   ]
  },
  {
   "cell_type": "code",
   "execution_count": 146,
   "metadata": {},
   "outputs": [
    {
     "name": "stdout",
     "output_type": "stream",
     "text": [
      "No caso dos filmes:\n",
      "A mediana é 2016.0.\n",
      "O ano que mais aparece é 2017.\n",
      "\n",
      "No caso das séries:\n",
      "A mediana é 2018.0.\n",
      "O ano que mais aparece é 2020.\n",
      "\n"
     ]
    }
   ],
   "source": [
    "# Estatísticas básicas (valor máximo e percentil)\n",
    "\n",
    "print(f'No caso dos filmes:\\nA mediana é {release_movies.median()}.\\nO ano que mais aparece é {release_movies.value_counts().idxmax()}.')\n",
    "print(f'\\nNo caso das séries:\\nA mediana é {release_shows.median()}.\\nO ano que mais aparece é {release_shows.value_counts().idxmax()}.')\n",
    "print('')"
   ]
  },
  {
   "cell_type": "markdown",
   "metadata": {},
   "source": [
    "- Análise Estatística Básica:\n",
    "    - No caso dos filmes:\n",
    "        Isso indica que aproximadamente metade dos filmes (metade) se concentra em um período muito pequeno de tempo (2016 - 2021) e que após 2017 há uma queda na quantidade de títulos.\n",
    "    - PS: release_year séries - ano de lançamento da última temporada"
   ]
  },
  {
   "cell_type": "markdown",
   "metadata": {},
   "source": [
    "- Conclusões:\n",
    "    - Em relação à data de lançamento, é possível perceber que a maior parte dos títulos é recente. No caso das séries, a maioria das obras concentra-se entre 2019 e 2021, de maneira que quanto mais recente o ano, maior a quantidade de títulos (provavelmente devido a quantidade de novas séries próprias da empresa). No caso dos filmes, há uma tendência crescente na quantidade de obras lançadas até 2017, diminuindo após essa data (possivelmente por ser mais difícil adquirir filmes recentes para a coleção). Assim, a Netflix oferece um catálogo muito bom pra quem quer ficar ligado nas novidades, mas não tão variado para aqueles que desejam consumir títulos mais antigos."
   ]
  },
  {
   "cell_type": "markdown",
   "metadata": {},
   "source": [
    "### Duração"
   ]
  },
  {
   "cell_type": "code",
   "execution_count": 147,
   "metadata": {},
   "outputs": [
    {
     "data": {
      "image/png": "[encoded data removed]",
      "text/plain": [
       "<Figure size 1440x576 with 2 Axes>"
      ]
     },
     "metadata": {
      "needs_background": "light"
     },
     "output_type": "display_data"
    }
   ],
   "source": [
    "# Histogramas da distribuição de títulos por duração\n",
    "\n",
    "#Séries\n",
    "duration_shows = netflix_dados[netflix_dados.type == 'TV Show'].duration.str.split().map(lambda x: x[0])\n",
    "duration_shows = duration_shows.astype('int64')\n",
    "\n",
    "# Filmes\n",
    "duration_movies = netflix_dados[netflix_dados.type == 'Movie'].duration.str.split().map(lambda x: x[0])\n",
    "duration_movies = duration_movies.astype('int64')\n",
    "\n",
    "Plota_histograma(duration_shows, duration_movies, 'Séries por Duração', 'Filmes por Duração', 'Temporadas', 'Minutos', True, False)\n"
   ]
  },
  {
   "cell_type": "markdown",
   "metadata": {},
   "source": [
    "- Observações importantes:\n",
    "- Séries:\n",
    "    - Maioria tem uma temporada.\n",
    "    - Pouquíssimas tem mais de 10 temporadas.\n",
    "    - Maioria esmagadora vêm de 2000 pra cá, com tendência crescente.\n",
    "    - Há várias séries produzidas pela Netflix, o que facilita aumentar o número.\n",
    "    - Movivos possíveis: Possivelmente, séries mais curtas são mais fáceis de se produzir, o que as torna mais baratas para aquisição pela Netflix, e mais rápidas de se consumir, entretendo os consumirdores por menos tempo. Além disso, para serem produzidas diversas temporadas de uma série, ela precisa ser famosa e gerar engajamento, o que só é possível em casos de extremo sucesso. Assim, séries mais curtas (e provavelmente de menor sucesso) são maioria esmagadora e acabam por existir poucas séries maiores (e provavelmente de maior sucesso).\n",
    "\n",
    "- Filmes:\n",
    "    - Maioria concentra-se em torno de 100 minutos de duração.\n",
    "    - Filmes com menos de 50 min ou mais de 150 são minoria.\n",
    "    - Mais distribuídos que as séries (maior quantidade de filmes de 1970-2000).\n",
    "    - Tendência crescente até 2016 (aprox.), mas queda depois desse ponto.\n",
    "    - A maioria dos filmes é comprada de outras empresas, o que dificulta aumentar o número de títulos.\n"
   ]
  },
  {
   "cell_type": "code",
   "execution_count": 148,
   "metadata": {},
   "outputs": [
    {
     "name": "stdout",
     "output_type": "stream",
     "text": [
      "No caso dos filmes:\n",
      "A média é 99.31.\n",
      "A mediana é 98.00.\n"
     ]
    }
   ],
   "source": [
    "print(f'No caso dos filmes:\\nA média é {duration_movies.mean():.2f}.\\nA mediana é {duration_movies.median():.2f}.')"
   ]
  },
  {
   "cell_type": "markdown",
   "metadata": {},
   "source": [
    "- Análise Estatística Básica:\n",
    "    - A proximidade entre média e mediana indica que a distribuição está bem centralizada em torno desses valores."
   ]
  },
  {
   "cell_type": "code",
   "execution_count": 149,
   "metadata": {},
   "outputs": [
    {
     "name": "stderr",
     "output_type": "stream",
     "text": [
      "<ipython-input-149-e8f5c4da9616>:21: MatplotlibDeprecationWarning: Adding an axes using the same arguments as a previous axes currently reuses the earlier instance.  In a future version, a new instance will always be created and returned.  Meanwhile, this warning can be suppressed, and the future behavior ensured, by passing a unique label to each axes instance.\n",
      "  plt.axes().spines['right'].set_visible(False)\n",
      "<ipython-input-149-e8f5c4da9616>:22: MatplotlibDeprecationWarning: Adding an axes using the same arguments as a previous axes currently reuses the earlier instance.  In a future version, a new instance will always be created and returned.  Meanwhile, this warning can be suppressed, and the future behavior ensured, by passing a unique label to each axes instance.\n",
      "  plt.axes().spines['top'].set_visible(False)\n"
     ]
    },
    {
     "data": {
      "text/plain": [
       "<AxesSubplot:title={'center':'Duração de Séries por Ano de Lançamento'}, xlabel='Ano de Lançamento'>"
      ]
     },
     "execution_count": 149,
     "metadata": {},
     "output_type": "execute_result"
    },
    {
     "data": {
      "image/png": "[encoded data removed]",
      "text/plain": [
       "<Figure size 1152x576 with 1 Axes>"
      ]
     },
     "metadata": {
      "needs_background": "light"
     },
     "output_type": "display_data"
    }
   ],
   "source": [
    "# Gráfico de linha da quantidade de títulos por ano de lançamento por duração\n",
    "\n",
    "# Séries\n",
    "\n",
    "\n",
    "df_1 = Prepara_dataframe('TV Show', 'duration', 0, 4) \n",
    "\n",
    "# configurando tamanho de figura, título, textos dos eixos x e y e títulos dos eixos x e y\n",
    "tamanho_titulo, tamanho_x, tamanho_y, rotulo_x = 13.5, 11.5, 11.5, 12\n",
    "plt.figure(figsize=(16, 8))\n",
    "plt.title('Duração de Séries por Ano de Lançamento', fontsize=tamanho_titulo)\n",
    "plt.tick_params(axis='y', labelsize=tamanho_y, left=False)\n",
    "plt.tick_params(axis='x', labelsize=tamanho_x)\n",
    "plt.xlabel('Ano de Lançamento', fontsize=rotulo_x)\n",
    "\n",
    "# configurando cor dos plots\n",
    "paleta = sns.color_palette('Reds_r') \n",
    "sns.set_palette(paleta) \n",
    "\n",
    "# retirando bordas superior e direita dos gráficos do seaborn\n",
    "plt.axes().spines['right'].set_visible(False)\n",
    "plt.axes().spines['top'].set_visible(False)\n",
    "\n",
    "# plotando figura\n",
    "sns.lineplot(data=df_1.iloc[-16:-2,], linewidth=2)"
   ]
  },
  {
   "cell_type": "markdown",
   "metadata": {},
   "source": [
    "- Conclusões:\n",
    "    - No caso do tempo, é possível perceber que os filmes foram registrados por meio de minutos de tela, enquanto as séries o foram por temporadas, gerando distribuições diferentes. No primeiro caso, é possível perceber que a maioria dos filmes se concentra em torno de 1 hora e 30 minutos de duração, sugerindo que há poucos curtas e filmes extremamente longos. No segundo, pode-se perceber que a maioria esmagadora das séries tem uma temporada, o que mostra a preocupação da Netflix em oferecer uma grande variedade de séries curtas e de consumo rápido. Além disso, observando-se o segundo gráfico, é possível perceber que a maior parte das séries são não só curtas como também recentes, o que reforça ainda mais a ideia de diversificação por meio de quantidade e inovação. Assim, a empresa oferece um catálogo de filmes com uma duração “padrão” e séries curtas e recentes."
   ]
  },
  {
   "cell_type": "markdown",
   "metadata": {},
   "source": [
    "### País"
   ]
  },
  {
   "cell_type": "code",
   "execution_count": 150,
   "metadata": {},
   "outputs": [
    {
     "data": {
      "image/png": "[encoded data removed]",
      "text/plain": [
       "<Figure size 2016x864 with 2 Axes>"
      ]
     },
     "metadata": {
      "needs_background": "light"
     },
     "output_type": "display_data"
    }
   ],
   "source": [
    "# Gráficos de barras da quantidade de títulos por país\n",
    "\n",
    "nomes_paises_series =  Prepara_texto('TV Show', 'country')\n",
    "nomes_paises_filmes = Prepara_texto('Movie', 'country')\n",
    "Plota_primeiros_barras(nomes_paises_series, nomes_paises_filmes, 'Países com Mais Séries', 'Países com Mais Filmes')"
   ]
  },
  {
   "cell_type": "markdown",
   "metadata": {},
   "source": [
    "- Observações importantes:\n",
    "- Séries:\n",
    "    - Estados Unidos em primeiro - maior produção ocidental de séries, possivelmente pela Netflix ser dos EUA (grande parte das séries de produção da prórpria Netflix incluem-se dentro da categoria EUA).\n",
    "    - Coréia do Sul - séries do gênero k-drama são uma parcela considerável da Netflix.\n",
    "\n",
    "- Filmes:\n",
    "    - Índia - segundo lugar, proavelmente devido à grande produção cinematográfica de Bollywood."
   ]
  },
  {
   "cell_type": "code",
   "execution_count": 151,
   "metadata": {},
   "outputs": [
    {
     "name": "stdout",
     "output_type": "stream",
     "text": [
      "A proporção entre animes e séries japonesas é de : 0.76\n"
     ]
    }
   ],
   "source": [
    "# Análise exploratória para verificar se animes formam uma parcela expressiva das séries japonesas da Netflix\n",
    "\n",
    "japan_shows = netflix_dados[netflix_dados.country.str.lower() == 'japan']\n",
    "numero_animes = 0\n",
    "\n",
    "for palavra in japan_shows['listed_in']:\n",
    "    if 'anime' in str(palavra).lower():\n",
    "        numero_animes += 1\n",
    "        \n",
    "print(f'A proporção entre animes e séries japonesas é de : {numero_animes / len(japan_shows):.2f}')"
   ]
  },
  {
   "cell_type": "markdown",
   "metadata": {},
   "source": [
    "- Análise Exploratória Básica:\n",
    "    - Supondo-se que a palavra anime só aparece uma vez na categoria (listed_in) de cada série japonesa que for, de fato, um anime, temos que mais de 70% das séries japonesas são animes.\n"
   ]
  },
  {
   "cell_type": "markdown",
   "metadata": {},
   "source": [
    "- Conclusões:\n",
    "    - Analisando-se a quantidade de obras por país, é possível perceber, por um lado, o destaque de países específicos em certos ramos da indústria audiovisual e, por outro, o caráter ocidental dos títulos da Netflix. Em relação às séries, destaques notáveis são o Japão – devido à quantidade de animes – e a Coréia do Sul – possivelmente relacionado ao crescimento das séries jovens coreanas . Em relação aos filmes, vale citar a expressiva proporção dos títulos indianos na plataforma, representando a força da indústria cinematográfica do país, conhecida mundialmente pelas produções boolywoodianas. Além disso, vale citar que em ambos os casos, a maior parte dos títulos tem participação dos países ocidentais em sua produção. Portanto, a empresa oferece um catálogo direcionado ao público ocidental, mas contendo também obras de setores de destaque internacional, como os animes japoneses, séries coreanas e filmes indianos."
   ]
  },
  {
   "cell_type": "markdown",
   "metadata": {},
   "source": [
    "### Gênero"
   ]
  },
  {
   "cell_type": "code",
   "execution_count": 152,
   "metadata": {},
   "outputs": [
    {
     "data": {
      "image/png": "[encoded data removed]",
      "text/plain": [
       "<Figure size 2016x864 with 2 Axes>"
      ]
     },
     "metadata": {
      "needs_background": "light"
     },
     "output_type": "display_data"
    }
   ],
   "source": [
    "# Gráficos de barras da quantidade de títulos por gênero\n",
    "\n",
    "nomes_paises_series =  Prepara_texto('TV Show', 'listed_in')\n",
    "nomes_paises_filmes = Prepara_texto('Movie', 'listed_in')\n",
    "Plota_primeiros_barras(nomes_paises_series, nomes_paises_filmes, 'Gêneros Mais Famosos em Séries', 'Gêneros Mais Famosos em Filmes')"
   ]
  },
  {
   "cell_type": "markdown",
   "metadata": {},
   "source": [
    "- Conclusões:\n",
    "    - Quanto ao gênero, a maior parte dos títulos concentra-se em categorias mais tradicionais como internacional, drama e comédia, apesar de existirem destaques em outras. No caso das séries, vale citar que o gênero crime está acima do infantil, o que sugere um direcionamento ao público adulto e adolescente em detrimento do mais jovem. No caso dos filmes, é interessante notar que documentários estão presentes em uma proporção maior que ação e aventura, sugerindo que também há conteúdo mais técnico para aqueles que o desejarem. Assim, a Netflix foca seus títulos em gêneros famosos na atualidade, focados no público adulto, mas oferece opções como documentários para a audiência não convencional.\n"
   ]
  },
  {
   "cell_type": "markdown",
   "metadata": {},
   "source": [
    "### Rating"
   ]
  },
  {
   "cell_type": "code",
   "execution_count": 153,
   "metadata": {},
   "outputs": [
    {
     "data": {
      "image/png": "[encoded data removed]",
      "text/plain": [
       "<Figure size 2016x864 with 2 Axes>"
      ]
     },
     "metadata": {
      "needs_background": "light"
     },
     "output_type": "display_data"
    }
   ],
   "source": [
    "# Gráficos de barras da quantidade de títulos por rating\n",
    "\n",
    "nomes_paises_series =  Prepara_texto('TV Show', 'rating')\n",
    "nomes_paises_filmes = Prepara_texto('Movie', 'rating')\n",
    "Plota_primeiros_barras(nomes_paises_series, nomes_paises_filmes, 'Ratings Mais Repetidas em Séries', 'Ratings Mais repetidas em Filmes')"
   ]
  },
  {
   "cell_type": "markdown",
   "metadata": {},
   "source": [
    "- Guia das Siglas Americanas de Classificação Indicatória:\n",
    "    - tv-ma - adultos (17+)\n",
    "    - tv-14 - crianças 14+\n",
    "    - tv-pg - sugestão de controle familiar (pais podem achar impróprio)\n",
    "    - tv-y7 - crianças 7+\n",
    "    - tv-y - todas as crianças\n",
    "    - tv-g - aberto a todos\n",
    "    - ry - sem classificação\n",
    "    - r - restricted\n",
    "    - tv-y7-fv - crianças 7+ com certa violência\n",
    "    - pg-13 - mesmo que pg, mas para crianças 13-\n",
    "- Link - parental ratings: http://www.tvguidelines.org/resources/TV_Parental_guidelines_Brochure.pdf \n",
    "\n",
    "\n"
   ]
  },
  {
   "cell_type": "markdown",
   "metadata": {},
   "source": [
    "- Observações Importantes:\n",
    "- Séries: \n",
    "    - TV-MA, TV-14, TV-PG - maioria das séries. Isso mostra que conteúdo de séries da Netflix é voltado ao público adulto\n",
    "    - TV-Y7, TV-Y - em menor quantidade. Isso mostra que a Netflix tem poucas séries para crianças\n",
    "\n",
    "- Filmes:\n",
    "    - TV-MA, TV-14, R, PG-13, TV-PG - considerando-se essas categorias, no caso dos filmes, a parcela de filmes com restrições é ainda maior\n"
   ]
  },
  {
   "cell_type": "markdown",
   "metadata": {},
   "source": [
    "- Conclusões:\n",
    "    - Para explicar a distribuição dos títulos por ratings (classificação etária) é necessário, antes de qualquer análise, explicitar qual a recomendação de idade a que cada sigla é referente: não recomendável para crianças, como TV-MA, TV-14, R; recomendável para crianças, como TV-Y7, TV-Y, TV-G. Observando-se o gráfico, é possível perceber que tanto em filmes quanto em séries, as obras direcionadas para ao primeiro público (não infantil) são maioria. Assim, é possível concluir que a empresa tem um catálogo mais voltado ao público adulto do que ao infantil."
   ]
  },
  {
   "cell_type": "markdown",
   "metadata": {},
   "source": [
    "# Conslusão "
   ]
  },
  {
   "cell_type": "markdown",
   "metadata": {},
   "source": [
    "- Conclusão: \n",
    "    - Após todas essas análises, podemos voltar à pergunta inicial: “Qual é o público melhor atendido pela empresa?”  Podemos responder essa questão observando as características das obras presentes no catálogo da empresa. Através desse esforço, é possível perceber que a maioria dos títulos são recentes, ocidentais, voltados a adultos e enquadram-se nos gêneros tradicionais (internacional, comédia e drama). Apesar disso, também existem títulos para outros nichos, como animes japoneses, séries coreanas, filmes indianos e uma parcela de conteúdo infantil. Vale também citar também que as séries, em sua maioria, são curtas (1 ou 2 temporadas), o que oferece um apelo maior a consumidores que desejem um conteúdo curto e recente. Assim, percebemos que a empresa oferece opções para diversos públicos, mas apresenta uma tendência dominante, voltando-se à audiência ocidental, adulta e com preferência por gêneros audiovisuais já consagrados.\n"
   ]
  },
  {
   "cell_type": "markdown",
   "metadata": {},
   "source": [
    "# Fim do Artigo"
   ]
  },
  {
   "cell_type": "markdown",
   "metadata": {},
   "source": [
    "### Conteúdo Extra - Outras Visualizações"
   ]
  },
  {
   "cell_type": "code",
   "execution_count": null,
   "metadata": {},
   "outputs": [],
   "source": [
    "# Gráficos de barras da quantidade de títulos por elenco\n",
    "\n",
    "nomes_paises_series =  Prepara_texto('TV Show', 'cast')\n",
    "nomes_paises_filmes = Prepara_texto('Movie', 'cast')\n",
    "Plota_primeiros_barras(nomes_paises_series, nomes_paises_filmes, 'Atores Mais Famosos em Séries', 'Atores Mais Famosos em Filmes')"
   ]
  },
  {
   "cell_type": "markdown",
   "metadata": {},
   "source": [
    "- Observações Importantes:\n",
    "- Séries:\n",
    "    - 8/9 nomes presentes são de asiáticos - ao que tudo indica, vários deles são dubladores \n",
    "\n",
    "- Filmes:\n",
    "    - 9/9 nomes presentes são de atores indiano famosos"
   ]
  },
  {
   "cell_type": "code",
   "execution_count": null,
   "metadata": {},
   "outputs": [],
   "source": [
    "# Gráficos de barras da quantidade de títulos por direção\n",
    "\n",
    "nomes_paises_series =  Prepara_texto('TV Show', 'director')\n",
    "nomes_paises_filmes = Prepara_texto('Movie', 'director')\n",
    "Plota_primeiros_barras(nomes_paises_series, nomes_paises_filmes, 'Diretores Mais Famosos em Séries', 'Diretores Mais Famosos em Filmes')"
   ]
  },
  {
   "cell_type": "markdown",
   "metadata": {},
   "source": [
    "Hipótese - diretores com mais filmes na netflix são os que mais produziram filmes exclusivos para a netflix"
   ]
  },
  {
   "cell_type": "code",
   "execution_count": null,
   "metadata": {},
   "outputs": [],
   "source": [
    "# Gráfico de linha da quantidade de títulos por ano de lançamento por gênero\n",
    "\n",
    "df_1 = Prepara_dataframe('TV Show', 'listed_in', 0, 4)\n",
    "df_2 = Prepara_dataframe('Movie', 'listed_in', 0, 4)\n",
    "Plota_primeiros_linhas(df_1.iloc[-20:-2,], df_2.iloc[-30:-2,], 'Shows', 'Movies')"
   ]
  },
  {
   "cell_type": "code",
   "execution_count": null,
   "metadata": {},
   "outputs": [],
   "source": [
    "# Gráfico de linha da quantidade de títulos por ano de lançamento por país\n",
    "\n",
    "df_1 = Prepara_dataframe('TV Show', 'country', 0, 4)\n",
    "df_2 = Prepara_dataframe('Movie', 'country', 0, 4)\n",
    "Plota_primeiros_linhas(df_1.iloc[-20:-2,], df_2.iloc[-30:-2,], 'Shows', 'Movies')"
   ]
  },
  {
   "cell_type": "code",
   "execution_count": null,
   "metadata": {},
   "outputs": [],
   "source": [
    "# Gráfico de linha da quantidade de títulos por ano de lançamento \n",
    "\n",
    "df_1 = Prepara_dataframe('TV Show', 'type', 0, 4)\n",
    "df_2 = Prepara_dataframe('Movie', 'type', 0, 4)\n",
    "plt.figure(figsize=(20, 8))\n",
    "sns.lineplot(data=df_1.iloc[:-2,], palette=['red'])\n",
    "sns.lineplot(data=df_2.iloc[:-2,], palette=['black'])"
   ]
  },
  {
   "cell_type": "code",
   "execution_count": null,
   "metadata": {},
   "outputs": [],
   "source": []
  }
 ],
 "metadata": {
  "kernelspec": {
   "display_name": "Python 3",
   "language": "python",
   "name": "python3"
  },
  "language_info": {
   "codemirror_mode": {
    "name": "ipython",
    "version": 3
   },
   "file_extension": ".py",
   "mimetype": "text/x-python",
   "name": "python",
   "nbconvert_exporter": "python",
   "pygments_lexer": "ipython3",
   "version": "3.8.5"
  }
 },
 "nbformat": 4,
 "nbformat_minor": 4
}
