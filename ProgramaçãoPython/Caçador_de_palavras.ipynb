{
 "cells": [
  {
   "cell_type": "markdown",
   "metadata": {},
   "source": [
    "# Projeto de Programação Python\n",
    "### Autor: Alan G. W. Gayger\n",
    "- Bibliografia utilizada como base para o projeto:\n",
    "    - Automate the Boring Stuff with Python (capítulos 7 e 8) - livro com dezenas de projetos práticos, muito recomendado para inciantes.\n",
    "    - Projeto inspirado na sugestão de trabalho aplicado do capítulo 7: \n",
    "        - Regex Search - Write a program that opens all .txt files in a folder and searches for any line that matches a user-supplied regular expression. The results should be printed to the screen.\n",
    "\n",
    "# Título: Caçador de Palavras"
   ]
  },
  {
   "cell_type": "code",
   "execution_count": 1,
   "metadata": {},
   "outputs": [],
   "source": [
    "# Importando pacotes\n",
    "\n",
    "import os\n",
    "import re\n",
    "import pyperclip\n",
    "import docx # tem que ser instalado por fora - (é só ir no terminal e escrever pip install python-docx)"
   ]
  },
  {
   "cell_type": "code",
   "execution_count": 2,
   "metadata": {},
   "outputs": [],
   "source": [
    "# Função para ler documento Word\n",
    "\n",
    "def leWord(doc_word):\n",
    "    \"\"\" \n",
    "    Retorna uma string (texto) do texto que está dentro do documento Word (no caminho inserido)\n",
    "    doc_word (str): recebe uma string (texto) com o caminho de um documento Word (.docx)\n",
    "    \"\"\"\n",
    "    \n",
    "    \n",
    "    doc_Word = docx.Document(doc_word)   # lê arquivo Word\n",
    "    texto_word = []\n",
    "    for paragrafo in doc_Word.paragraphs:  \n",
    "        texto_word.append(paragrafo.text)  # adiciona o texto parágrafo por parágrafo em texto_word\n",
    "    return '\\n'.join(texto_word)   # junta parágrafos e forma um texto só, o qual é retornado pela função"
   ]
  },
  {
   "cell_type": "code",
   "execution_count": 3,
   "metadata": {},
   "outputs": [],
   "source": [
    "# Função para abrir documentos Word e txt\n",
    "\n",
    "def abreDocumento(str_documento):\n",
    "    \"\"\"\n",
    "    Retorna uma string (texto) do texto que está dentro de um documento Word (.docx) ou \"Bloco de Notas\" (.txt) no caminho inserido\n",
    "    str_documento (str): recebe uma string (texto) com o caminho de um documento Word (.docx) ou \"Bloco de Notas (.txt)\"\n",
    "    \"\"\"\n",
    "    \n",
    "    \n",
    "    arquivo_conteudo = \"\"  \n",
    "    arquivo_open = open(str_documento, mode='r', encoding='utf-8')\n",
    "    \n",
    "    if str_documento.endswith(\".txt\"): \n",
    "        arquivo_conteudo = arquivo_open.read()  # abre arquivos de Bloco de Notas\n",
    "    elif str_documento.endswith(\".docx\"):\n",
    "        arquivo_conteudo = leWord(str_documento) # abre arquivos em Word com função leWord\n",
    "    arquivo_open.close()  # fecha arquivo - muito importante lembrar de fechar o arquivo após abrir, pra não bugar scripts/códigos\n",
    "    \n",
    "    return arquivo_conteudo"
   ]
  },
  {
   "cell_type": "markdown",
   "metadata": {},
   "source": [
    "- Exemplos Caminhos:\n",
    "    - C:\\Users\\Alan\\Desktop\\Amplia\\Amplia 2021\n",
    "    - C:\\Users\\Alan\\Desktop\\Amplia\\Amplia 2021\\Investimentos\\Tarefa investimentos..docx\n",
    "    "
   ]
  },
  {
   "cell_type": "code",
   "execution_count": 4,
   "metadata": {},
   "outputs": [],
   "source": [
    "# Função para repassar valores de dicionário pro clipboard\n",
    "\n",
    "def JogaClipboard(dicio_pastas):\n",
    "    \"\"\"\n",
    "    Repassa string (texto) com keys e values pro clipboard (área de transferência)\n",
    "    dicio_pastas (dict): recebe o dicionário cujo conteúdo será repassado pro clipboard\n",
    "    \"\"\"\n",
    "    \n",
    "    \n",
    "    str_clipboard = \"\"\n",
    "    for keys, values in dicio_pastas.items():   \n",
    "        str_clipboard += \"\\n\" + str(keys) + \"\\n\"   # adiciona keys a uma string (texto)\n",
    "        for value in values:\n",
    "            str_clipboard += \"\\n\" + str(value) + \"\\n\"   # adiciona cada um dos itens em cada um dos values a string\n",
    "        str_clipboard += \"\\n\" + (\"=*\" * 40) + \"\\n\"\n",
    "    pyperclip.copy(str_clipboard)   # manda texto pro clipboard (area de transferência)"
   ]
  },
  {
   "cell_type": "markdown",
   "metadata": {},
   "source": [
    "- Exemplo de Dicionário:\n",
    "    - {'C:\\\\Users\\\\Alan\\\\Desktop\\\\Amplia\\\\Amplia 2021\\\\Cursos Hashtag\\\\Cursos Hashtag.txt': ['n4033',\n",
    "  'n4033',\n",
    "  'n4033'],\n",
    " 'C:\\\\Users\\\\Alan\\\\Desktop\\\\Amplia\\\\Amplia 2021\\\\Cursos Hashtag\\\\oii.docx': ['Hhhh0000'],\n",
    " 'C:\\\\Users\\\\Alan\\\\Desktop\\\\Amplia\\\\Amplia 2021\\\\Endowment\\\\Estruturação Endowment.txt': ['Alan1234'],\n",
    " 'C:\\\\Users\\\\Alan\\\\Desktop\\\\Amplia\\\\Amplia 2021\\\\Investimentos\\\\Estruturação Investimentos.docx': ['Alan2222'],\n",
    " 'C:\\\\Users\\\\Alan\\\\Desktop\\\\Amplia\\\\Amplia 2021\\\\Investimentos\\\\Tarefa investimentos..docx': ['Alan9999'],\n",
    " 'C:\\\\Users\\\\Alan\\\\Desktop\\\\Amplia\\\\Amplia 2021\\\\Outros documentos\\\\Cultura do Feedback.txt': ['Labb2222',\n",
    "  'alan3456']}"
   ]
  },
  {
   "cell_type": "code",
   "execution_count": 5,
   "metadata": {},
   "outputs": [],
   "source": [
    "# Printa keys e values de um dicionário\n",
    "\n",
    "def PrintaPadrões(dicio_pastas):\n",
    "    \"\"\"\n",
    "    Printa keys e values de um dicionário de maneira organizada\n",
    "    dicio_pastas (dict): dicionário a ser printado\n",
    "    \"\"\"\n",
    "    \n",
    "    \n",
    "    for keys, values in dicio_pastas.items():\n",
    "        print(f'\\n{keys}\\n{values}\\n')   # printa keys e values com uma linha em branco entre cada um\n"
   ]
  },
  {
   "cell_type": "code",
   "execution_count": 6,
   "metadata": {},
   "outputs": [],
   "source": [
    "# Função para abrir todos os documentos dentro de uma pasta e suas subpastas e verificar se o padrão de string desejado encontra-se em um dos documentos\n",
    "\n",
    "def caçaPalavras(int_rodadas, str_caminho, str_regex):\n",
    "    \"\"\"\n",
    "    Retorna os padrões encontrados nos documentos dentro das pastas dos caminhos inseridos\n",
    "    int_rodadas (int): recebe número de pastas que computador irá vasculhar (1 - vasculha a pasta/arquivo em str_caminho)\n",
    "    str_caminho (str): recebe um caminho para ser vasculhado (pasta ou arquivo)\n",
    "    str_regex (str): recebe uma string (texto) com um padrão linguístico (RegEx) a ser procurado nos documentos\n",
    "    \"\"\"\n",
    "    dicio_pastas = {}\n",
    "    pasta_1 = [str(str_caminho)]    # recebe caminho (pasta ou arquivo) indicado\n",
    "    pasta_2 = []  \n",
    "    c = 0 \n",
    "    rodadas = int_rodadas + 1\n",
    "\n",
    "    while c < rodadas:   # conta quantas repetições devem ser realizadas (quantos caminhos a dentro devem ser analisados)\n",
    "        for p in pasta_1:         # para cada um dos caminhos em pasta_1, verifica se ele é correspondente a um arquivo ou a uma pasta\n",
    "            if os.path.isfile(p): # se é arquivo de texto:\n",
    "                try:\n",
    "                    arquivo_conteudo = abreDocumento(p)\n",
    "                    varRegex = re.compile(fr'{str_regex}')    # cria variável que analisa o padrão da RegEx\n",
    "                    mo = varRegex.search(fr'{str(arquivo_conteudo)}')    # verifica se conteúdo do texto do arquivo fecha com a RegEx\n",
    "                    if mo != None:\n",
    "                        dicio_pastas[p] = varRegex.findall(fr'{str(arquivo_conteudo)}')   # se o conteúdo fecha, então uma key é criada no dicionário com o caminho do arquivo\n",
    "                except Exception as e:                                                    # e um value com uma lista com todos os padrões que fecharam com o da RegEx inserida\n",
    "                    pass\n",
    "\n",
    "            elif os.path.isdir(p):            # se é pasta\n",
    "                for pasta in os.listdir(p):   # verifica todos os documentos que estão dentro dessa pasta\n",
    "                    pasta_2.append(p + f'\\\\{pasta}')   # adiciona todos os caminhos dessses documentos a pasta_2\n",
    "\n",
    "        pasta_1 = pasta_2[:] # pasta_1 recebe todos os caminhos que estavam na pasta_2\n",
    "        pasta_2 = []    # pasta_2 é esvaziada para receber mais pastas na próxima rodada\n",
    "        c += 1          # contador de repetições\n",
    "\n",
    "    PrintaPadrões(dicio_pastas)\n",
    "    JogaClipboard(dicio_pastas)\n",
    "\n",
    "    return dicio_pastas"
   ]
  },
  {
   "cell_type": "markdown",
   "metadata": {},
   "source": [
    "- Expressões Regulares (RegEx):\n",
    "    - Classes de caracteres\n",
    "        - \\d - digitos\n",
    "        - \\D - não digitos\n",
    "        - \\w - letra, número, digito, underscore\n",
    "        - \\W - não letra, número, digito, underscore\n",
    "        - \\s - espaço, tab, newline\n",
    "        - \\S - não espaço, tab, newline\n",
    "        - (\\*) - recebe tudo menos nova linha\n",
    "        - {a} - siginifica que ocorre \"a vezes\""
   ]
  }
 ],
 "metadata": {
  "kernelspec": {
   "display_name": "Python 3",
   "language": "python",
   "name": "python3"
  },
  "language_info": {
   "codemirror_mode": {
    "name": "ipython",
    "version": 3
   },
   "file_extension": ".py",
   "mimetype": "text/x-python",
   "name": "python",
   "nbconvert_exporter": "python",
   "pygments_lexer": "ipython3",
   "version": "3.8.5"
  }
 },
 "nbformat": 4,
 "nbformat_minor": 4
}
